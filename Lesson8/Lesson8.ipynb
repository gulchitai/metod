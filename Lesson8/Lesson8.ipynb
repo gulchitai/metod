{
 "cells": [
  {
   "cell_type": "markdown",
   "metadata": {},
   "source": [
    "### Урок 8 Открытые данные"
   ]
  },
  {
   "cell_type": "markdown",
   "metadata": {},
   "source": [
    "1. Создать приложение, которое будет из готового файла с данными «Сбербанка» выводить результат по параметрам:\n",
    "**Тип данных**\n",
    "**Интервал дат**\n",
    "**Область**\n",
    "2. Визуализировать выводимые данные с помощью графика"
   ]
  },
  {
   "cell_type": "code",
   "execution_count": 4,
   "metadata": {},
   "outputs": [
    {
     "name": "stderr",
     "output_type": "stream",
     "text": [
      "Enabling notebook extension jupyter-js-widgets/extension...\n",
      "      - Validating: ok\n"
     ]
    }
   ],
   "source": [
    "!pip install -U -q ipywidgets\n",
    "!jupyter nbextension enable --py widgetsnbextension"
   ]
  },
  {
   "cell_type": "code",
   "execution_count": 78,
   "metadata": {},
   "outputs": [],
   "source": [
    "import pylab\n",
    "import matplotlib.dates\n",
    "from matplotlib import pyplot as plt\n",
    "import pandas as pd\n",
    "from pylab import rcParams\n",
    "%matplotlib inline\n",
    "\n",
    "import ipywidgets as widgets\n",
    "from ipywidgets import interact, interact_manual\n",
    "from IPython.display import Image, display, HTML"
   ]
  },
  {
   "cell_type": "code",
   "execution_count": 97,
   "metadata": {},
   "outputs": [
    {
     "name": "stdout",
     "output_type": "stream",
     "text": [
      "<class 'pandas.core.frame.DataFrame'>\n",
      "RangeIndex: 74842 entries, 0 to 74841\n",
      "Data columns (total 4 columns):\n",
      "name      74842 non-null object\n",
      "region    74842 non-null object\n",
      "date      74842 non-null datetime64[ns]\n",
      "value     74842 non-null int64\n",
      "dtypes: datetime64[ns](1), int64(1), object(2)\n",
      "memory usage: 2.3+ MB\n"
     ]
    }
   ],
   "source": [
    "df = pd.read_csv('opendata.csv',encoding='cp1251')\n",
    "df['date'] = pd.to_datetime(df['date'])\n",
    "df.info()"
   ]
  },
  {
   "cell_type": "code",
   "execution_count": 131,
   "metadata": {},
   "outputs": [
    {
     "data": {
      "application/vnd.jupyter.widget-view+json": {
       "model_id": "2ac2da27fe1243adacd39d3b22dfda20",
       "version_major": 2,
       "version_minor": 0
      },
      "text/plain": [
       "interactive(children=(Dropdown(description='Тип данных:', index=14, options=('Количество заявок на потребитель…"
      ]
     },
     "metadata": {},
     "output_type": "display_data"
    }
   ],
   "source": [
    "def plot_up_to(name, region, date_start, date_end):\n",
    "    date_start = pd.to_datetime(date_start)\n",
    "    date_end = pd.to_datetime(date_end)\n",
    "    \n",
    "    result = df.query(f'(region == \"{region}\") & (name == \"{name}\") & ((date >=\"{date_start}\") & (date <= \"{date_end}\"))')\n",
    "    xdata = pd.to_datetime(result['date'])\n",
    "    ydata = result['value']\n",
    "    xdata_float = matplotlib.dates.date2num (xdate)\n",
    "\n",
    "    rcParams[\"figure.figsize\"] = 10, 8\n",
    "\n",
    "    plt.plot(xdata,ydata)\n",
    "    plt.show()\n",
    "    \n",
    "_ = interact(plot_up_to, name=widgets.Dropdown(options=list(df[\"name\"].unique()), value=\"Средние траты в ресторане\", description='Тип данных:'), \n",
    "             region=widgets.Dropdown(options=list(df[\"region\"].unique()), value = \"Ярославская область\", description='Область:'),\n",
    "             date_start = widgets.DatePicker(value=pd.to_datetime('2018-01-01'), description='Дата начала:'),\n",
    "            date_end = widgets.DatePicker(value=pd.to_datetime('2019-01-01'), description='Дата окончания:'))"
   ]
  },
  {
   "cell_type": "code",
   "execution_count": null,
   "metadata": {},
   "outputs": [],
   "source": []
  }
 ],
 "metadata": {
  "kernelspec": {
   "display_name": "Python 3",
   "language": "python",
   "name": "python3"
  },
  "language_info": {
   "codemirror_mode": {
    "name": "ipython",
    "version": 3
   },
   "file_extension": ".py",
   "mimetype": "text/x-python",
   "name": "python",
   "nbconvert_exporter": "python",
   "pygments_lexer": "ipython3",
   "version": "3.7.5"
  }
 },
 "nbformat": 4,
 "nbformat_minor": 2
}
